{
  "cells": [
    {
      "cell_type": "markdown",
      "id": "dfef01d7",
      "metadata": {
        "id": "dfef01d7"
      },
      "source": [
        "## Getting started\n",
        "\n",
        "thermodiff is not uploaded to PyPI. To install it you can do:\n",
        "\n",
        "```shell\n",
        "pip install git+https://github.com/SalvadorBrandolin/thermodiff\n",
        "```\n",
        "\n",
        "Obtaining derivatives of thermodynamic expressions is an important but not\n",
        "trivial task. Derivatives of Residual Helmholtz free energy and Excess Gibbs\n",
        "free energy models are used to evaluate of the thermodynamic properties of\n",
        "mixtures, such as enthalpy, entropy, and pressure.\n",
        "\n",
        "Moreover, sometimes it's required to obtain derivatives of expressions with\n",
        "thermodynamic-involved magnitudes/variables for the development of algorithms,\n",
        "for example, for phase envelope calculations.\n",
        "\n",
        "## Tutorial: Let's get the derivatives of the UNIQUAC model\n",
        "\n",
        "The UNIQUAC (**uni**versal **qua**si**c**hemical) Excess Gibbs free energy\n",
        "model is given by:\n",
        "\n",
        "$$\n",
        "\\frac{G^\\mathrm{E}}{RT} = \\sum_k n_k \\ln\\frac{\\phi_k}{x_k}\n",
        "+ \\frac{z}{2}\\sum_k q_k n_k \\ln\\frac{\\theta_k}{\\phi_k}\n",
        "- \\sum_k q_k n_k \\ln\\left(\\sum_l \\theta_l \\tau_{lk} \\right)\n",
        "$$\n",
        "\n",
        "With:\n",
        "\n",
        "$$x_k = \\frac{n_k}{\\sum_l n_l}$$\n",
        "\n",
        "$$ \\phi_k = \\frac{r_k n_k}{\\sum_l r_l n_l} $$\n",
        "\n",
        "$$ \\theta_k = \\frac{q_k n_k}{\\sum_l q_l n_l} $$\n",
        "\n",
        "$$ \\tau_{lk} = \\exp \\left[\\frac{-\\Delta U_{lk}}{R T} \\right] $$\n",
        "\n",
        "$$\n",
        "\\frac{-\\Delta u_{lk}}{R T} = a_{lk}+\\frac{b_{lk}}{T}+c_{lk}\\ln T + d_{lk}T +\n",
        "e_{lk}{T^2}\n",
        "$$\n",
        "\n",
        "A simplification could be made to avoid division by zero, replacing $\\phi_k$\n",
        "and $x_k$ on the Gibbs free energy. The result is:\n",
        "\n",
        "$$\n",
        "\\frac{G^\\mathrm{E}}{RT} = \\sum_k n_k \\ln \\left(\\frac{n_T r_k}{\\sum_l r_l n_l} \\right)\n",
        "+ \\frac{z}{2}\\sum_k q_k n_k \\ln \\left(\\frac{q_k \\sum_l r_l n_l}{r_k \\sum_l q_l\n",
        "n_l} \\right) - \\sum_k q_k n_k \\ln\\left(\\sum_l \\theta_l \\tau_{lk} \\right)\n",
        "$$\n",
        "\n",
        "Or directly how we will use it in this tutorial:\n",
        "\n",
        "$$\n",
        "G^\\mathrm{E} = RT\\left(\\sum_k n_k \\ln \\left(\\frac{n_T r_k}{\\sum_l r_l n_l} \\right)\n",
        "+ \\frac{z}{2}\\sum_k q_k n_k \\ln \\left(\\frac{q_k \\sum_l r_l n_l}{r_k \\sum_l q_l\n",
        "n_l} \\right) - \\sum_k q_k n_k \\ln\\left(\\sum_l \\theta_l \\tau_{lk} \\right)\\right)\n",
        "$$\n",
        "\n",
        "First thing to note is that in the expression above, all the subscripts are $k$\n",
        "or $l$. This is for a personal preference. I like to differentiate the\n",
        "expression respect to $n_i$ and $n_j$. If we built our expression to\n",
        "differentiate using $i$ and $j$ subscripts, we wouldn't be able to\n",
        "differentiate correctly.\n",
        "\n",
        ":::{important}\n",
        "If I was not clear. **NEVER** use $i$ and $j$ subscripts in the thermodynamic expressions you want to differentiate. Use $k$, $l$, $m$, etc.\n",
        ":::\n",
        "\n",
        "\n",
        "`thermodiff` already provide instantiated SymPy variables. Please use them\n",
        "since internally when the $\\frac{\\partial}{\\partial T}$ is performed, it will\n",
        "use those instances.\n",
        "\n"
      ]
    },
    {
      "cell_type": "code",
      "execution_count": 1,
      "id": "6156f0ac",
      "metadata": {
        "id": "6156f0ac",
        "outputId": "21f75880-6647-4659-d6e9-1b79d3c9e1ca",
        "colab": {
          "base_uri": "https://localhost:8080/",
          "height": 387
        }
      },
      "outputs": [
        {
          "output_type": "error",
          "ename": "ModuleNotFoundError",
          "evalue": "No module named 'thermodiff'",
          "traceback": [
            "\u001b[0;31m---------------------------------------------------------------------------\u001b[0m",
            "\u001b[0;31mModuleNotFoundError\u001b[0m                       Traceback (most recent call last)",
            "\u001b[0;32m/tmp/ipython-input-1-1598446756.py\u001b[0m in \u001b[0;36m<cell line: 0>\u001b[0;34m()\u001b[0m\n\u001b[0;32m----> 1\u001b[0;31m \u001b[0;32mfrom\u001b[0m \u001b[0mthermodiff\u001b[0m \u001b[0;32mimport\u001b[0m \u001b[0mn\u001b[0m\u001b[0;34m,\u001b[0m \u001b[0mP\u001b[0m\u001b[0;34m,\u001b[0m \u001b[0mV\u001b[0m\u001b[0;34m,\u001b[0m \u001b[0mT\u001b[0m  \u001b[0;31m# mole number vector, pressure, volume, temperature\u001b[0m\u001b[0;34m\u001b[0m\u001b[0;34m\u001b[0m\u001b[0m\n\u001b[0m\u001b[1;32m      2\u001b[0m \u001b[0;32mfrom\u001b[0m \u001b[0mthermodiff\u001b[0m \u001b[0;32mimport\u001b[0m \u001b[0mk\u001b[0m\u001b[0;34m,\u001b[0m \u001b[0ml\u001b[0m\u001b[0;34m,\u001b[0m \u001b[0mm\u001b[0m     \u001b[0;31m# indexes\u001b[0m\u001b[0;34m\u001b[0m\u001b[0;34m\u001b[0m\u001b[0m\n\u001b[1;32m      3\u001b[0m \u001b[0;32mfrom\u001b[0m \u001b[0mthermodiff\u001b[0m \u001b[0;32mimport\u001b[0m \u001b[0mR\u001b[0m           \u001b[0;31m# universal gas constant\u001b[0m\u001b[0;34m\u001b[0m\u001b[0;34m\u001b[0m\u001b[0m\n\u001b[1;32m      4\u001b[0m \u001b[0;34m\u001b[0m\u001b[0m\n\u001b[1;32m      5\u001b[0m \u001b[0;32mimport\u001b[0m \u001b[0mthermodiff\u001b[0m \u001b[0;32mas\u001b[0m \u001b[0mtd\u001b[0m\u001b[0;34m\u001b[0m\u001b[0;34m\u001b[0m\u001b[0m\n",
            "\u001b[0;31mModuleNotFoundError\u001b[0m: No module named 'thermodiff'",
            "",
            "\u001b[0;31m---------------------------------------------------------------------------\u001b[0;32m\nNOTE: If your import is failing due to a missing package, you can\nmanually install dependencies using either !pip or !apt.\n\nTo view examples of installing some common dependencies, click the\n\"Open Examples\" button below.\n\u001b[0;31m---------------------------------------------------------------------------\u001b[0m\n"
          ],
          "errorDetails": {
            "actions": [
              {
                "action": "open_url",
                "actionText": "Open Examples",
                "url": "/notebooks/snippets/importing_libraries.ipynb"
              }
            ]
          }
        }
      ],
      "source": [
        "from thermodiff import n, P, V, T  # mole number vector, pressure, volume, temperature\n",
        "from thermodiff import k, l, m     # indexes\n",
        "from thermodiff import R           # universal gas constant\n",
        "\n",
        "import thermodiff as td\n",
        "\n",
        "import sympy as sp  # we still could need sympy"
      ]
    },
    {
      "cell_type": "markdown",
      "id": "1c464234",
      "metadata": {
        "id": "1c464234"
      },
      "source": [
        "### UNIQUAC Temperature function"
      ]
    },
    {
      "cell_type": "markdown",
      "id": "aa1f725c",
      "metadata": {
        "id": "aa1f725c"
      },
      "source": [
        "When using `thermodiff`, you should imagine that later you will have to implement\n",
        "those equations by yourself. So, differentiate as you code, by functions.\n",
        "Moreover, a very recommended practice is to differentiate each term individually.\n",
        "This avoids that SymPy heavily simplifies the expression to more non-readable\n",
        "forms.\n",
        "\n",
        "Following that advice, let's start by the easiest but instructive part,\n",
        "$\\tau_{lk}$. This force us to define more SymPy parameters: $a_{lk}$, $b_{lk}$,\n",
        "$c_{lk}$, $d_{lk}$ and $e_{lk}$"
      ]
    },
    {
      "cell_type": "code",
      "execution_count": null,
      "id": "2e330e16",
      "metadata": {
        "id": "2e330e16",
        "outputId": "c193678a-cd93-4deb-f547-a14d05853e59"
      },
      "outputs": [
        {
          "data": {
            "text/latex": [
              "$\\displaystyle e^{T^{2} e_{lk} + T d_{lk} + a_{lk} + c_{lk} \\log{\\left(T \\right)} + \\frac{b_{lk}}{T}}$"
            ],
            "text/plain": [
              "exp(T**2*e_{lk} + T*d_{lk} + a_{lk} + c_{lk}*log(T) + b_{lk}/T)"
            ]
          },
          "execution_count": 2,
          "metadata": {},
          "output_type": "execute_result"
        }
      ],
      "source": [
        "# UNIQUAC interaction parameters\n",
        "a_lk = sp.Symbol(\"a_{lk}\")\n",
        "b_lk = sp.Symbol(\"b_{lk}\")\n",
        "c_lk = sp.Symbol(\"c_{lk}\")\n",
        "d_lk = sp.Symbol(\"d_{lk}\")\n",
        "e_lk = sp.Symbol(\"e_{lk}\")\n",
        "\n",
        "# The SymPy expression\n",
        "tau_lk_expr = sp.exp(a_lk + b_lk/T + c_lk*sp.ln(T) + d_lk*T + e_lk*T**2)\n",
        "\n",
        "tau_lk_expr"
      ]
    },
    {
      "cell_type": "markdown",
      "id": "48c0f305",
      "metadata": {
        "id": "48c0f305"
      },
      "source": [
        "Now we use the `thermodiff` class: `DiffPlz`"
      ]
    },
    {
      "cell_type": "code",
      "execution_count": null,
      "id": "06c2bb63",
      "metadata": {
        "id": "06c2bb63"
      },
      "outputs": [],
      "source": [
        "tau_lk_diffs = td.DiffPlz(tau_lk_expr, name=r\"\\tau_{lk}\")"
      ]
    },
    {
      "cell_type": "markdown",
      "id": "eea35da7",
      "metadata": {
        "id": "eea35da7"
      },
      "source": [
        "Inside the attributes of the `DiffPlz` instance we have the derivatives respect\n",
        "to $T$:"
      ]
    },
    {
      "cell_type": "code",
      "execution_count": null,
      "id": "da4d4e71",
      "metadata": {
        "id": "da4d4e71",
        "outputId": "2d03e981-fba2-4e08-b83e-32877f6011b4"
      },
      "outputs": [
        {
          "data": {
            "text/latex": [
              "$\\displaystyle \\left(2 T e_{lk} + d_{lk} + \\frac{c_{lk}}{T} - \\frac{b_{lk}}{T^{2}}\\right) e^{T^{2} e_{lk} + T d_{lk} + a_{lk} + c_{lk} \\log{\\left(T \\right)} + \\frac{b_{lk}}{T}}$"
            ],
            "text/plain": [
              "(2*T*e_{lk} + d_{lk} + c_{lk}/T - b_{lk}/T**2)*exp(T**2*e_{lk} + T*d_{lk} + a_{lk} + c_{lk}*log(T) + b_{lk}/T)"
            ]
          },
          "execution_count": 4,
          "metadata": {},
          "output_type": "execute_result"
        }
      ],
      "source": [
        "tau_lk_diffs.dt"
      ]
    },
    {
      "cell_type": "code",
      "execution_count": null,
      "id": "adfe802e",
      "metadata": {
        "id": "adfe802e",
        "outputId": "8ad757a1-5fe2-4430-b1bc-b467a97393d0"
      },
      "outputs": [
        {
          "data": {
            "text/latex": [
              "$\\displaystyle \\left(2 e_{lk} - \\frac{c_{lk}}{T^{2}} + \\frac{2 b_{lk}}{T^{3}}\\right) e^{T^{2} e_{lk} + T d_{lk} + a_{lk} + c_{lk} \\log{\\left(T \\right)} + \\frac{b_{lk}}{T}} + \\left(2 T e_{lk} + d_{lk} + \\frac{c_{lk}}{T} - \\frac{b_{lk}}{T^{2}}\\right)^{2} e^{T^{2} e_{lk} + T d_{lk} + a_{lk} + c_{lk} \\log{\\left(T \\right)} + \\frac{b_{lk}}{T}}$"
            ],
            "text/plain": [
              "(2*e_{lk} - c_{lk}/T**2 + 2*b_{lk}/T**3)*exp(T**2*e_{lk} + T*d_{lk} + a_{lk} + c_{lk}*log(T) + b_{lk}/T) + (2*T*e_{lk} + d_{lk} + c_{lk}/T - b_{lk}/T**2)**2*exp(T**2*e_{lk} + T*d_{lk} + a_{lk} + c_{lk}*log(T) + b_{lk}/T)"
            ]
          },
          "execution_count": 5,
          "metadata": {},
          "output_type": "execute_result"
        }
      ],
      "source": [
        "tau_lk_diffs.dt2"
      ]
    },
    {
      "cell_type": "code",
      "execution_count": null,
      "id": "55d68c99",
      "metadata": {
        "id": "55d68c99",
        "outputId": "c60d8e60-13ef-4df1-e703-4e14cd4630e2"
      },
      "outputs": [
        {
          "data": {
            "text/latex": [
              "$\\displaystyle \\left(2 T e_{lk} + d_{lk} + \\frac{c_{lk}}{T} - \\frac{b_{lk}}{T^{2}}\\right) \\tau_{lk}{\\left(T \\right)}$"
            ],
            "text/plain": [
              "(2*T*e_{lk} + d_{lk} + c_{lk}/T - b_{lk}/T**2)*\\tau_{lk}(T)"
            ]
          },
          "execution_count": 6,
          "metadata": {},
          "output_type": "execute_result"
        }
      ],
      "source": [
        "tau_lk_diffs.clean_plz()\n",
        "\n",
        "tau_lk_diffs.dt"
      ]
    }
  ],
  "metadata": {
    "kernelspec": {
      "display_name": "thermodiff",
      "language": "python",
      "name": "python3"
    },
    "language_info": {
      "codemirror_mode": {
        "name": "ipython",
        "version": 3
      },
      "file_extension": ".py",
      "mimetype": "text/x-python",
      "name": "python",
      "nbconvert_exporter": "python",
      "pygments_lexer": "ipython3",
      "version": "3.12.10"
    },
    "colab": {
      "provenance": []
    }
  },
  "nbformat": 4,
  "nbformat_minor": 5
}